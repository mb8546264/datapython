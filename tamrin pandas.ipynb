{
 "cells": [
  {
   "cell_type": "markdown",
   "id": "e4f7ab15-1935-4301-825a-558e154e441b",
   "metadata": {},
   "source": [
    "Q1: Create a dataframe which contains information of a company's products:\n",
    "\n",
    "prod_name price monthly_demand brand"
   ]
  },
  {
   "cell_type": "code",
   "execution_count": 1,
   "id": "f6bc3449-dcc3-4551-b628-b17db13c26b1",
   "metadata": {},
   "outputs": [],
   "source": [
    "import pandas as pd"
   ]
  },
  {
   "cell_type": "code",
   "execution_count": 2,
   "id": "25d6d196-03e2-4eb8-925a-c47b60a43465",
   "metadata": {},
   "outputs": [],
   "source": [
    "data = {\n",
    "    'prod_name': ['g1', 'g2', 'c1', 'c2', 'c3', 'f1', 'f2'],\n",
    "    'price': [45, 25, 75, 35, 89, 20, 55],\n",
    "    'monthly_demand': [1200, 2500, 200, 1850, 120, 3500, 545],\n",
    "    'brand': ['z', 'x', 'x', 'y', 'z', 'y', 'z']\n",
    "}\n"
   ]
  },
  {
   "cell_type": "code",
   "execution_count": 3,
   "id": "2f994f6f-87b1-4c09-8005-1177b43249b2",
   "metadata": {},
   "outputs": [
    {
     "data": {
      "text/html": [
       "<div>\n",
       "<style scoped>\n",
       "    .dataframe tbody tr th:only-of-type {\n",
       "        vertical-align: middle;\n",
       "    }\n",
       "\n",
       "    .dataframe tbody tr th {\n",
       "        vertical-align: top;\n",
       "    }\n",
       "\n",
       "    .dataframe thead th {\n",
       "        text-align: right;\n",
       "    }\n",
       "</style>\n",
       "<table border=\"1\" class=\"dataframe\">\n",
       "  <thead>\n",
       "    <tr style=\"text-align: right;\">\n",
       "      <th></th>\n",
       "      <th>prod_name</th>\n",
       "      <th>price</th>\n",
       "      <th>monthly_demand</th>\n",
       "      <th>brand</th>\n",
       "    </tr>\n",
       "  </thead>\n",
       "  <tbody>\n",
       "    <tr>\n",
       "      <th>0</th>\n",
       "      <td>g1</td>\n",
       "      <td>45</td>\n",
       "      <td>1200</td>\n",
       "      <td>z</td>\n",
       "    </tr>\n",
       "    <tr>\n",
       "      <th>1</th>\n",
       "      <td>g2</td>\n",
       "      <td>25</td>\n",
       "      <td>2500</td>\n",
       "      <td>x</td>\n",
       "    </tr>\n",
       "    <tr>\n",
       "      <th>2</th>\n",
       "      <td>c1</td>\n",
       "      <td>75</td>\n",
       "      <td>200</td>\n",
       "      <td>x</td>\n",
       "    </tr>\n",
       "    <tr>\n",
       "      <th>3</th>\n",
       "      <td>c2</td>\n",
       "      <td>35</td>\n",
       "      <td>1850</td>\n",
       "      <td>y</td>\n",
       "    </tr>\n",
       "    <tr>\n",
       "      <th>4</th>\n",
       "      <td>c3</td>\n",
       "      <td>89</td>\n",
       "      <td>120</td>\n",
       "      <td>z</td>\n",
       "    </tr>\n",
       "    <tr>\n",
       "      <th>5</th>\n",
       "      <td>f1</td>\n",
       "      <td>20</td>\n",
       "      <td>3500</td>\n",
       "      <td>y</td>\n",
       "    </tr>\n",
       "    <tr>\n",
       "      <th>6</th>\n",
       "      <td>f2</td>\n",
       "      <td>55</td>\n",
       "      <td>545</td>\n",
       "      <td>z</td>\n",
       "    </tr>\n",
       "  </tbody>\n",
       "</table>\n",
       "</div>"
      ],
      "text/plain": [
       "  prod_name  price  monthly_demand brand\n",
       "0        g1     45            1200     z\n",
       "1        g2     25            2500     x\n",
       "2        c1     75             200     x\n",
       "3        c2     35            1850     y\n",
       "4        c3     89             120     z\n",
       "5        f1     20            3500     y\n",
       "6        f2     55             545     z"
      ]
     },
     "execution_count": 3,
     "metadata": {},
     "output_type": "execute_result"
    }
   ],
   "source": [
    "df = pd.DataFrame(data)\n",
    "df"
   ]
  },
  {
   "cell_type": "markdown",
   "id": "4093a99f-43a0-4276-90e9-42214dc52bcf",
   "metadata": {},
   "source": [
    "a: Add a column to calculate monthly revenue of each product"
   ]
  },
  {
   "cell_type": "code",
   "execution_count": 7,
   "id": "96f2b36c-be8b-48bb-a5c3-d52178657aa5",
   "metadata": {},
   "outputs": [
    {
     "data": {
      "text/html": [
       "<div>\n",
       "<style scoped>\n",
       "    .dataframe tbody tr th:only-of-type {\n",
       "        vertical-align: middle;\n",
       "    }\n",
       "\n",
       "    .dataframe tbody tr th {\n",
       "        vertical-align: top;\n",
       "    }\n",
       "\n",
       "    .dataframe thead th {\n",
       "        text-align: right;\n",
       "    }\n",
       "</style>\n",
       "<table border=\"1\" class=\"dataframe\">\n",
       "  <thead>\n",
       "    <tr style=\"text-align: right;\">\n",
       "      <th></th>\n",
       "      <th>prod_name</th>\n",
       "      <th>price</th>\n",
       "      <th>monthly_demand</th>\n",
       "      <th>brand</th>\n",
       "      <th>monthly_revenue</th>\n",
       "    </tr>\n",
       "  </thead>\n",
       "  <tbody>\n",
       "    <tr>\n",
       "      <th>0</th>\n",
       "      <td>g1</td>\n",
       "      <td>45</td>\n",
       "      <td>1200</td>\n",
       "      <td>z</td>\n",
       "      <td>54000</td>\n",
       "    </tr>\n",
       "    <tr>\n",
       "      <th>1</th>\n",
       "      <td>g2</td>\n",
       "      <td>25</td>\n",
       "      <td>2500</td>\n",
       "      <td>x</td>\n",
       "      <td>62500</td>\n",
       "    </tr>\n",
       "    <tr>\n",
       "      <th>2</th>\n",
       "      <td>c1</td>\n",
       "      <td>75</td>\n",
       "      <td>200</td>\n",
       "      <td>x</td>\n",
       "      <td>15000</td>\n",
       "    </tr>\n",
       "    <tr>\n",
       "      <th>3</th>\n",
       "      <td>c2</td>\n",
       "      <td>35</td>\n",
       "      <td>1850</td>\n",
       "      <td>y</td>\n",
       "      <td>64750</td>\n",
       "    </tr>\n",
       "    <tr>\n",
       "      <th>4</th>\n",
       "      <td>c3</td>\n",
       "      <td>89</td>\n",
       "      <td>120</td>\n",
       "      <td>z</td>\n",
       "      <td>10680</td>\n",
       "    </tr>\n",
       "    <tr>\n",
       "      <th>5</th>\n",
       "      <td>f1</td>\n",
       "      <td>20</td>\n",
       "      <td>3500</td>\n",
       "      <td>y</td>\n",
       "      <td>70000</td>\n",
       "    </tr>\n",
       "    <tr>\n",
       "      <th>6</th>\n",
       "      <td>f2</td>\n",
       "      <td>55</td>\n",
       "      <td>545</td>\n",
       "      <td>z</td>\n",
       "      <td>29975</td>\n",
       "    </tr>\n",
       "  </tbody>\n",
       "</table>\n",
       "</div>"
      ],
      "text/plain": [
       "  prod_name  price  monthly_demand brand  monthly_revenue\n",
       "0        g1     45            1200     z            54000\n",
       "1        g2     25            2500     x            62500\n",
       "2        c1     75             200     x            15000\n",
       "3        c2     35            1850     y            64750\n",
       "4        c3     89             120     z            10680\n",
       "5        f1     20            3500     y            70000\n",
       "6        f2     55             545     z            29975"
      ]
     },
     "execution_count": 7,
     "metadata": {},
     "output_type": "execute_result"
    }
   ],
   "source": [
    "df['monthly_revenue'] = df['price'] * df['monthly_demand']\n",
    "df"
   ]
  },
  {
   "cell_type": "markdown",
   "id": "cf13afc5-00ba-4ef4-a1c5-778301587ce1",
   "metadata": {},
   "source": [
    "b: Calculate total monthly revenue generated by brand z"
   ]
  },
  {
   "cell_type": "code",
   "execution_count": 8,
   "id": "b79cb2b8-7261-4b6a-8311-f96506bd3c44",
   "metadata": {},
   "outputs": [
    {
     "data": {
      "text/plain": [
       "94655"
      ]
     },
     "execution_count": 8,
     "metadata": {},
     "output_type": "execute_result"
    }
   ],
   "source": [
    "total_revenue_z = df[df['brand'] == 'z']['monthly_revenue'].sum()\n",
    "total_revenue_z"
   ]
  },
  {
   "cell_type": "markdown",
   "id": "617897a9-f295-4acd-9f31-c1013f485b01",
   "metadata": {},
   "source": [
    "c: Create a column called revenue share which includes monthly revenue share of each product"
   ]
  },
  {
   "cell_type": "code",
   "execution_count": 9,
   "id": "34b9f540-160d-40d6-b796-63c73ab78ed9",
   "metadata": {},
   "outputs": [
    {
     "data": {
      "text/html": [
       "<div>\n",
       "<style scoped>\n",
       "    .dataframe tbody tr th:only-of-type {\n",
       "        vertical-align: middle;\n",
       "    }\n",
       "\n",
       "    .dataframe tbody tr th {\n",
       "        vertical-align: top;\n",
       "    }\n",
       "\n",
       "    .dataframe thead th {\n",
       "        text-align: right;\n",
       "    }\n",
       "</style>\n",
       "<table border=\"1\" class=\"dataframe\">\n",
       "  <thead>\n",
       "    <tr style=\"text-align: right;\">\n",
       "      <th></th>\n",
       "      <th>prod_name</th>\n",
       "      <th>price</th>\n",
       "      <th>monthly_demand</th>\n",
       "      <th>brand</th>\n",
       "      <th>monthly_revenue</th>\n",
       "      <th>revenue_share</th>\n",
       "    </tr>\n",
       "  </thead>\n",
       "  <tbody>\n",
       "    <tr>\n",
       "      <th>0</th>\n",
       "      <td>g1</td>\n",
       "      <td>45</td>\n",
       "      <td>1200</td>\n",
       "      <td>z</td>\n",
       "      <td>54000</td>\n",
       "      <td>0.175950</td>\n",
       "    </tr>\n",
       "    <tr>\n",
       "      <th>1</th>\n",
       "      <td>g2</td>\n",
       "      <td>25</td>\n",
       "      <td>2500</td>\n",
       "      <td>x</td>\n",
       "      <td>62500</td>\n",
       "      <td>0.203646</td>\n",
       "    </tr>\n",
       "    <tr>\n",
       "      <th>2</th>\n",
       "      <td>c1</td>\n",
       "      <td>75</td>\n",
       "      <td>200</td>\n",
       "      <td>x</td>\n",
       "      <td>15000</td>\n",
       "      <td>0.048875</td>\n",
       "    </tr>\n",
       "    <tr>\n",
       "      <th>3</th>\n",
       "      <td>c2</td>\n",
       "      <td>35</td>\n",
       "      <td>1850</td>\n",
       "      <td>y</td>\n",
       "      <td>64750</td>\n",
       "      <td>0.210977</td>\n",
       "    </tr>\n",
       "    <tr>\n",
       "      <th>4</th>\n",
       "      <td>c3</td>\n",
       "      <td>89</td>\n",
       "      <td>120</td>\n",
       "      <td>z</td>\n",
       "      <td>10680</td>\n",
       "      <td>0.034799</td>\n",
       "    </tr>\n",
       "    <tr>\n",
       "      <th>5</th>\n",
       "      <td>f1</td>\n",
       "      <td>20</td>\n",
       "      <td>3500</td>\n",
       "      <td>y</td>\n",
       "      <td>70000</td>\n",
       "      <td>0.228084</td>\n",
       "    </tr>\n",
       "    <tr>\n",
       "      <th>6</th>\n",
       "      <td>f2</td>\n",
       "      <td>55</td>\n",
       "      <td>545</td>\n",
       "      <td>z</td>\n",
       "      <td>29975</td>\n",
       "      <td>0.097669</td>\n",
       "    </tr>\n",
       "  </tbody>\n",
       "</table>\n",
       "</div>"
      ],
      "text/plain": [
       "  prod_name  price  monthly_demand brand  monthly_revenue  revenue_share\n",
       "0        g1     45            1200     z            54000       0.175950\n",
       "1        g2     25            2500     x            62500       0.203646\n",
       "2        c1     75             200     x            15000       0.048875\n",
       "3        c2     35            1850     y            64750       0.210977\n",
       "4        c3     89             120     z            10680       0.034799\n",
       "5        f1     20            3500     y            70000       0.228084\n",
       "6        f2     55             545     z            29975       0.097669"
      ]
     },
     "execution_count": 9,
     "metadata": {},
     "output_type": "execute_result"
    }
   ],
   "source": [
    "total_revenue = df['monthly_revenue'].sum()\n",
    "df['revenue_share'] = df['monthly_revenue'] / total_revenue\n",
    "df"
   ]
  },
  {
   "cell_type": "markdown",
   "id": "9bd45c0c-20bb-4d3f-ab1f-e8268af10225",
   "metadata": {},
   "source": [
    "d: Which brand does have the largest revenue share? "
   ]
  },
  {
   "cell_type": "code",
   "execution_count": 11,
   "id": "04e65d76-1509-4150-a4d9-c7413ca3fdca",
   "metadata": {},
   "outputs": [
    {
     "data": {
      "text/plain": [
       "'y'"
      ]
     },
     "execution_count": 11,
     "metadata": {},
     "output_type": "execute_result"
    }
   ],
   "source": [
    "brand_revenue_share = df.groupby('brand')['monthly_revenue'].sum() / total_revenue\n",
    "largest_revenue_share_brand = brand_revenue_share.idxmax()\n",
    "largest_revenue_share_brand"
   ]
  },
  {
   "cell_type": "markdown",
   "id": "460f2b45-77d2-4577-b903-12286b38a311",
   "metadata": {},
   "source": [
    "Q2: Consider CRM dataset and answer these questions:"
   ]
  },
  {
   "cell_type": "code",
   "execution_count": 3,
   "id": "0132f2e9-e2b1-4101-bb99-9b8960d76d81",
   "metadata": {},
   "outputs": [
    {
     "data": {
      "text/html": [
       "<div>\n",
       "<style scoped>\n",
       "    .dataframe tbody tr th:only-of-type {\n",
       "        vertical-align: middle;\n",
       "    }\n",
       "\n",
       "    .dataframe tbody tr th {\n",
       "        vertical-align: top;\n",
       "    }\n",
       "\n",
       "    .dataframe thead th {\n",
       "        text-align: right;\n",
       "    }\n",
       "</style>\n",
       "<table border=\"1\" class=\"dataframe\">\n",
       "  <thead>\n",
       "    <tr style=\"text-align: right;\">\n",
       "      <th></th>\n",
       "      <th>customer_id</th>\n",
       "      <th>age</th>\n",
       "      <th>gender</th>\n",
       "      <th>marital_status</th>\n",
       "      <th>income</th>\n",
       "      <th>employment_status</th>\n",
       "      <th>health_insurance</th>\n",
       "      <th>homeowner</th>\n",
       "      <th>vehicle_owner</th>\n",
       "    </tr>\n",
       "  </thead>\n",
       "  <tbody>\n",
       "    <tr>\n",
       "      <th>0</th>\n",
       "      <td>1</td>\n",
       "      <td>24</td>\n",
       "      <td>female</td>\n",
       "      <td>married</td>\n",
       "      <td>35000</td>\n",
       "      <td>employed</td>\n",
       "      <td>True</td>\n",
       "      <td>True</td>\n",
       "      <td>1</td>\n",
       "    </tr>\n",
       "    <tr>\n",
       "      <th>1</th>\n",
       "      <td>2</td>\n",
       "      <td>30</td>\n",
       "      <td>male</td>\n",
       "      <td>single</td>\n",
       "      <td>50000</td>\n",
       "      <td>employed</td>\n",
       "      <td>True</td>\n",
       "      <td>False</td>\n",
       "      <td>0</td>\n",
       "    </tr>\n",
       "    <tr>\n",
       "      <th>2</th>\n",
       "      <td>3</td>\n",
       "      <td>22</td>\n",
       "      <td>female</td>\n",
       "      <td>single</td>\n",
       "      <td>42000</td>\n",
       "      <td>student</td>\n",
       "      <td>False</td>\n",
       "      <td>False</td>\n",
       "      <td>1</td>\n",
       "    </tr>\n",
       "    <tr>\n",
       "      <th>3</th>\n",
       "      <td>4</td>\n",
       "      <td>35</td>\n",
       "      <td>female</td>\n",
       "      <td>married</td>\n",
       "      <td>31000</td>\n",
       "      <td>employed</td>\n",
       "      <td>True</td>\n",
       "      <td>True</td>\n",
       "      <td>2</td>\n",
       "    </tr>\n",
       "    <tr>\n",
       "      <th>4</th>\n",
       "      <td>5</td>\n",
       "      <td>40</td>\n",
       "      <td>male</td>\n",
       "      <td>married</td>\n",
       "      <td>60000</td>\n",
       "      <td>self-employed</td>\n",
       "      <td>True</td>\n",
       "      <td>True</td>\n",
       "      <td>2</td>\n",
       "    </tr>\n",
       "  </tbody>\n",
       "</table>\n",
       "</div>"
      ],
      "text/plain": [
       "   customer_id  age  gender marital_status  income employment_status  \\\n",
       "0            1   24  female        married   35000          employed   \n",
       "1            2   30    male         single   50000          employed   \n",
       "2            3   22  female         single   42000           student   \n",
       "3            4   35  female        married   31000          employed   \n",
       "4            5   40    male        married   60000     self-employed   \n",
       "\n",
       "   health_insurance  homeowner  vehicle_owner  \n",
       "0              True       True              1  \n",
       "1              True      False              0  \n",
       "2             False      False              1  \n",
       "3              True       True              2  \n",
       "4              True       True              2  "
      ]
     },
     "execution_count": 3,
     "metadata": {},
     "output_type": "execute_result"
    }
   ],
   "source": [
    "crm_data = {\n",
    "    'customer_id': [1, 2, 3, 4, 5],\n",
    "    'age': [24, 30, 22, 35, 40],\n",
    "    'gender': ['female', 'male', 'female', 'female', 'male'],\n",
    "    'marital_status': ['married', 'single', 'single', 'married', 'married'],\n",
    "    'income': [35000, 50000, 42000, 31000, 60000],\n",
    "    'employment_status': ['employed', 'employed', 'student', 'employed', 'self-employed'],\n",
    "    'health_insurance': [True, True, False, True, True],\n",
    "    'homeowner': [True, False, False, True, True],\n",
    "    'vehicle_owner': [1, 0, 1, 2, 2]\n",
    "}\n",
    "crm_df = pd.DataFrame(crm_data)\n",
    "crm_df"
   ]
  },
  {
   "cell_type": "markdown",
   "id": "909c26b5-75e3-4a96-8c36-371b2d5401f5",
   "metadata": {},
   "source": [
    "a: Extract data of married customers with income above average"
   ]
  },
  {
   "cell_type": "code",
   "execution_count": 5,
   "id": "898d7230-dda7-4c98-b3f5-544494b74bcf",
   "metadata": {},
   "outputs": [
    {
     "data": {
      "text/html": [
       "<div>\n",
       "<style scoped>\n",
       "    .dataframe tbody tr th:only-of-type {\n",
       "        vertical-align: middle;\n",
       "    }\n",
       "\n",
       "    .dataframe tbody tr th {\n",
       "        vertical-align: top;\n",
       "    }\n",
       "\n",
       "    .dataframe thead th {\n",
       "        text-align: right;\n",
       "    }\n",
       "</style>\n",
       "<table border=\"1\" class=\"dataframe\">\n",
       "  <thead>\n",
       "    <tr style=\"text-align: right;\">\n",
       "      <th></th>\n",
       "      <th>customer_id</th>\n",
       "      <th>age</th>\n",
       "      <th>gender</th>\n",
       "      <th>marital_status</th>\n",
       "      <th>income</th>\n",
       "      <th>employment_status</th>\n",
       "      <th>health_insurance</th>\n",
       "      <th>homeowner</th>\n",
       "      <th>vehicle_owner</th>\n",
       "    </tr>\n",
       "  </thead>\n",
       "  <tbody>\n",
       "    <tr>\n",
       "      <th>4</th>\n",
       "      <td>5</td>\n",
       "      <td>40</td>\n",
       "      <td>male</td>\n",
       "      <td>married</td>\n",
       "      <td>60000</td>\n",
       "      <td>self-employed</td>\n",
       "      <td>True</td>\n",
       "      <td>True</td>\n",
       "      <td>2</td>\n",
       "    </tr>\n",
       "  </tbody>\n",
       "</table>\n",
       "</div>"
      ],
      "text/plain": [
       "   customer_id  age gender marital_status  income employment_status  \\\n",
       "4            5   40   male        married   60000     self-employed   \n",
       "\n",
       "   health_insurance  homeowner  vehicle_owner  \n",
       "4              True       True              2  "
      ]
     },
     "execution_count": 5,
     "metadata": {},
     "output_type": "execute_result"
    }
   ],
   "source": [
    "average_income = crm_df['income'].mean()\n",
    "married_above_avg_income = crm_df[(crm_df['marital_status'] == 'married') & (crm_df['income'] > average_income)]\n",
    "married_above_avg_income"
   ]
  },
  {
   "cell_type": "markdown",
   "id": "0512e50e-d108-4f63-bdba-fabe0983012a",
   "metadata": {},
   "source": [
    "b: What percentage of female customers are below 26?"
   ]
  },
  {
   "cell_type": "code",
   "execution_count": 6,
   "id": "cf08108c-0c9a-4a4a-bd92-b91b65510f83",
   "metadata": {},
   "outputs": [
    {
     "data": {
      "text/plain": [
       "66.66666666666666"
      ]
     },
     "execution_count": 6,
     "metadata": {},
     "output_type": "execute_result"
    }
   ],
   "source": [
    "female_below_26_percentage = (crm_df[(crm_df['gender'] == 'female') & (crm_df['age'] < 26)].shape[0] / crm_df[crm_df['gender'] == 'female'].shape[0]) * 100\n",
    "female_below_26_percentage"
   ]
  },
  {
   "cell_type": "markdown",
   "id": "00a9fe72-f46b-4847-be94-e56e6ae3ec3d",
   "metadata": {},
   "source": [
    "c: What percentage of female customers above 30 are employed?"
   ]
  },
  {
   "cell_type": "code",
   "execution_count": 8,
   "id": "2e8d7f75-62d2-4f2e-9a20-bfa04efa76ea",
   "metadata": {},
   "outputs": [
    {
     "data": {
      "text/plain": [
       "100.0"
      ]
     },
     "execution_count": 8,
     "metadata": {},
     "output_type": "execute_result"
    }
   ],
   "source": [
    "female_above_30_employed_percentage = (crm_df[(crm_df['gender'] == 'female') & (crm_df['age'] > 30) & (crm_df['employment_status'] == 'employed')].shape[0] / crm_df[(crm_df['gender'] == 'female') & (crm_df['age'] > 30)].shape[0]) * 100\n",
    "female_above_30_employed_percentage"
   ]
  },
  {
   "cell_type": "markdown",
   "id": "15fdeb09-c51f-46e2-a09e-f2a72aaee714",
   "metadata": {},
   "source": [
    "d: What percentage of customers who have health insurance are employed with income above average income?"
   ]
  },
  {
   "cell_type": "code",
   "execution_count": 9,
   "id": "08afe5b1-34df-4f96-b4e4-20c091c8aad0",
   "metadata": {},
   "outputs": [
    {
     "data": {
      "text/plain": [
       "25.0"
      ]
     },
     "execution_count": 9,
     "metadata": {},
     "output_type": "execute_result"
    }
   ],
   "source": [
    "employed_with_health_insurance_above_avg_income_percentage = (crm_df[(crm_df['health_insurance'] == True) & (crm_df['employment_status'] == 'employed') & (crm_df['income'] > average_income)].shape[0] / crm_df[crm_df['health_insurance'] == True].shape[0]) * 100\n",
    "employed_with_health_insurance_above_avg_income_percentage"
   ]
  },
  {
   "cell_type": "markdown",
   "id": "9548f357-8c05-4396-a878-f528198aa3c3",
   "metadata": {},
   "source": [
    "e: What percentage of customers who have health insurance are married males?"
   ]
  },
  {
   "cell_type": "code",
   "execution_count": 10,
   "id": "dbe996e4-c81d-4a9f-92b3-a8d8cdab636d",
   "metadata": {},
   "outputs": [
    {
     "data": {
      "text/plain": [
       "25.0"
      ]
     },
     "execution_count": 10,
     "metadata": {},
     "output_type": "execute_result"
    }
   ],
   "source": [
    "married_males_with_health_insurance_percentage = (crm_df[(crm_df['health_insurance'] == True) & (crm_df['marital_status'] == 'married') & (crm_df['gender'] == 'male')].shape[0] / crm_df[crm_df['health_insurance'] == True].shape[0]) * 100\n",
    "married_males_with_health_insurance_percentage"
   ]
  },
  {
   "cell_type": "markdown",
   "id": "d7ac8d9e-ee36-4996-9d84-06f29020d094",
   "metadata": {},
   "source": [
    "f: What percentage of married customers have health insurance?"
   ]
  },
  {
   "cell_type": "code",
   "execution_count": 12,
   "id": "704bac12-1b8e-4913-8744-999541d5f2cf",
   "metadata": {},
   "outputs": [
    {
     "data": {
      "text/plain": [
       "100.0"
      ]
     },
     "execution_count": 12,
     "metadata": {},
     "output_type": "execute_result"
    }
   ],
   "source": [
    "married_with_health_insurance_percentage = (crm_df[(crm_df['marital_status'] == 'married') & (crm_df['health_insurance'] == True)].shape[0] / crm_df[crm_df['marital_status'] == 'married'].shape[0]) * 100\n",
    "married_with_health_insurance_percentage"
   ]
  },
  {
   "cell_type": "markdown",
   "id": "3c66791c-f3b9-4630-a048-afd90dd0074a",
   "metadata": {},
   "source": [
    "g: Identify our top customers? (income > average, homeowner, and own at least one vehicle)"
   ]
  },
  {
   "cell_type": "code",
   "execution_count": 13,
   "id": "f019279c-4b1e-45c2-9a44-df5ee7542856",
   "metadata": {},
   "outputs": [
    {
     "data": {
      "text/html": [
       "<div>\n",
       "<style scoped>\n",
       "    .dataframe tbody tr th:only-of-type {\n",
       "        vertical-align: middle;\n",
       "    }\n",
       "\n",
       "    .dataframe tbody tr th {\n",
       "        vertical-align: top;\n",
       "    }\n",
       "\n",
       "    .dataframe thead th {\n",
       "        text-align: right;\n",
       "    }\n",
       "</style>\n",
       "<table border=\"1\" class=\"dataframe\">\n",
       "  <thead>\n",
       "    <tr style=\"text-align: right;\">\n",
       "      <th></th>\n",
       "      <th>customer_id</th>\n",
       "      <th>age</th>\n",
       "      <th>gender</th>\n",
       "      <th>marital_status</th>\n",
       "      <th>income</th>\n",
       "      <th>employment_status</th>\n",
       "      <th>health_insurance</th>\n",
       "      <th>homeowner</th>\n",
       "      <th>vehicle_owner</th>\n",
       "    </tr>\n",
       "  </thead>\n",
       "  <tbody>\n",
       "    <tr>\n",
       "      <th>4</th>\n",
       "      <td>5</td>\n",
       "      <td>40</td>\n",
       "      <td>male</td>\n",
       "      <td>married</td>\n",
       "      <td>60000</td>\n",
       "      <td>self-employed</td>\n",
       "      <td>True</td>\n",
       "      <td>True</td>\n",
       "      <td>2</td>\n",
       "    </tr>\n",
       "  </tbody>\n",
       "</table>\n",
       "</div>"
      ],
      "text/plain": [
       "   customer_id  age gender marital_status  income employment_status  \\\n",
       "4            5   40   male        married   60000     self-employed   \n",
       "\n",
       "   health_insurance  homeowner  vehicle_owner  \n",
       "4              True       True              2  "
      ]
     },
     "execution_count": 13,
     "metadata": {},
     "output_type": "execute_result"
    }
   ],
   "source": [
    "top_customers = crm_df[(crm_df['income'] > average_income) & (crm_df['homeowner'] == True) & (crm_df['vehicle_owner'] >= 1)]\n",
    "top_customers"
   ]
  },
  {
   "cell_type": "code",
   "execution_count": null,
   "id": "c5e1fafb-a12c-483d-90c4-1f4c134ad4f5",
   "metadata": {},
   "outputs": [],
   "source": []
  }
 ],
 "metadata": {
  "kernelspec": {
   "display_name": "Python 3 (ipykernel)",
   "language": "python",
   "name": "python3"
  },
  "language_info": {
   "codemirror_mode": {
    "name": "ipython",
    "version": 3
   },
   "file_extension": ".py",
   "mimetype": "text/x-python",
   "name": "python",
   "nbconvert_exporter": "python",
   "pygments_lexer": "ipython3",
   "version": "3.10.6"
  }
 },
 "nbformat": 4,
 "nbformat_minor": 5
}

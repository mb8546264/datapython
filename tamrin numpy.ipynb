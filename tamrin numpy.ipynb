{
 "cells": [
  {
   "cell_type": "markdown",
   "id": "f8666aba-1a7d-41df-ac3e-a7a08f839555",
   "metadata": {},
   "source": [
    "تمرینات numpy"
   ]
  },
  {
   "cell_type": "code",
   "execution_count": 1,
   "id": "0988dd20-6c25-462c-a0f3-50995e149ea9",
   "metadata": {},
   "outputs": [],
   "source": [
    "import numpy as np"
   ]
  },
  {
   "cell_type": "code",
   "execution_count": 9,
   "id": "36c9d7b7-2505-4fc4-bb00-a16575d1a703",
   "metadata": {},
   "outputs": [
    {
     "data": {
      "text/plain": [
       "array([[ True,  True,  True,  True],\n",
       "       [ True,  True,  True,  True],\n",
       "       [ True,  True,  True,  True],\n",
       "       [ True,  True,  True,  True],\n",
       "       [ True,  True,  True,  True]])"
      ]
     },
     "execution_count": 9,
     "metadata": {},
     "output_type": "execute_result"
    }
   ],
   "source": [
    "q3 = np.array([[5,2, 1,4], [2, 1, 4,5], [1, 3, 5,-1],[1, 3, 5,4],[1, 3, 5,4]])\n",
    "q3<=5"
   ]
  },
  {
   "cell_type": "code",
   "execution_count": 13,
   "id": "3c742a24-67f6-44ad-bd83-412c62bbc75a",
   "metadata": {},
   "outputs": [
    {
     "data": {
      "text/plain": [
       "array([[ True,  True,  True,  True,  True],\n",
       "       [ True,  True,  True,  True,  True],\n",
       "       [ True,  True,  True,  True,  True],\n",
       "       [ True,  True,  True,  True,  True]])"
      ]
     },
     "execution_count": 13,
     "metadata": {},
     "output_type": "execute_result"
    }
   ],
   "source": [
    "q3_1= np.full((4, 5),True)\n",
    "q3_1"
   ]
  },
  {
   "cell_type": "code",
   "execution_count": 10,
   "id": "14709391-16d2-40c8-8477-365d09faeefe",
   "metadata": {},
   "outputs": [
    {
     "data": {
      "text/plain": [
       "array([[ True,  True,  True,  True,  True],\n",
       "       [ True,  True,  True,  True,  True],\n",
       "       [ True,  True,  True,  True,  True],\n",
       "       [ True,  True,  True,  True,  True]])"
      ]
     },
     "execution_count": 10,
     "metadata": {},
     "output_type": "execute_result"
    }
   ],
   "source": [
    "q3_1= np.ones((4, 5), dtype = int)\n",
    "q3_1>0"
   ]
  },
  {
   "cell_type": "code",
   "execution_count": 12,
   "id": "fb7e7565-2b54-4b2f-9a0d-8b6f5dd347da",
   "metadata": {},
   "outputs": [
    {
     "data": {
      "text/plain": [
       "array([[12, 38, 44, 48, 27],\n",
       "       [29, 32, 43, 42, 19],\n",
       "       [42, 42, 35, 29, 24],\n",
       "       [46, 42, 26, 14, 13]])"
      ]
     },
     "execution_count": 12,
     "metadata": {},
     "output_type": "execute_result"
    }
   ],
   "source": [
    "np.random.seed(123)\n",
    "q4 = np.random.randint(10, 50, (4,5))\n",
    "q4"
   ]
  },
  {
   "cell_type": "code",
   "execution_count": 15,
   "id": "55a350ec-6e5d-4032-a37c-0b5f5440435d",
   "metadata": {},
   "outputs": [
    {
     "data": {
      "text/plain": [
       "array([[-1, 13, -1, 19, -1],\n",
       "       [25, -1, 31, -1, 37],\n",
       "       [-1, 43, -1, 49, -1],\n",
       "       [55, -1, 61, -1, 67]])"
      ]
     },
     "execution_count": 15,
     "metadata": {},
     "output_type": "execute_result"
    }
   ],
   "source": [
    "a = np.arange(10, 70, 3).reshape(4, 5)\n",
    "a[a % 2 == 0] = -1  \n",
    "a"
   ]
  },
  {
   "cell_type": "code",
   "execution_count": 17,
   "id": "1d6c9cf9-32cc-4fac-bc1e-5c9a3b0faf64",
   "metadata": {},
   "outputs": [
    {
     "data": {
      "text/plain": [
       "array([ 1,  3,  5,  7,  9, 11, 13, 15, 17, 19])"
      ]
     },
     "execution_count": 17,
     "metadata": {},
     "output_type": "execute_result"
    }
   ],
   "source": [
    "q5 = np.arange(1, 21, 2)\n",
    "q5"
   ]
  },
  {
   "cell_type": "code",
   "execution_count": 19,
   "id": "65551ed1-933e-453a-84e3-cc8a93bd1f29",
   "metadata": {},
   "outputs": [
    {
     "data": {
      "text/plain": [
       "array([ 1,  0,  5,  7,  0, 11, 13,  0, 17, 19])"
      ]
     },
     "execution_count": 19,
     "metadata": {},
     "output_type": "execute_result"
    }
   ],
   "source": [
    "q5[q5 % 3 == 0] = 0\n",
    "q5"
   ]
  },
  {
   "cell_type": "code",
   "execution_count": 21,
   "id": "dcbcfcbd-82df-48ef-8b41-a7ac59e742cc",
   "metadata": {},
   "outputs": [
    {
     "data": {
      "text/plain": [
       "array([[ 1,  0,  5,  7,  0],\n",
       "       [11, 13,  0, 17, 19]])"
      ]
     },
     "execution_count": 21,
     "metadata": {},
     "output_type": "execute_result"
    }
   ],
   "source": [
    "matrix = q5.reshape(2, 5)\n",
    "matrix"
   ]
  },
  {
   "cell_type": "code",
   "execution_count": 22,
   "id": "8cfb9c91-d92b-4b79-b080-0f91d3722196",
   "metadata": {},
   "outputs": [
    {
     "data": {
      "text/plain": [
       "array([[ 1,  0,  0,  7,  0],\n",
       "       [11, 13,  0, 17, 19]])"
      ]
     },
     "execution_count": 22,
     "metadata": {},
     "output_type": "execute_result"
    }
   ],
   "source": [
    "matrix[:, 2] = 0\n",
    "matrix"
   ]
  },
  {
   "cell_type": "markdown",
   "id": "15bac528-ca48-45e7-97a2-de9c3f3721c5",
   "metadata": {},
   "source": [
    "a: Create an one-dimensional array, b1, which includes 9 numbers evenly spaced over 1.5 to 3"
   ]
  },
  {
   "cell_type": "code",
   "execution_count": 35,
   "id": "6aeab35c-b899-404b-bfad-86cc5d6750ea",
   "metadata": {},
   "outputs": [
    {
     "data": {
      "text/plain": [
       "array([1.5   , 1.6875, 1.875 , 2.0625, 2.25  , 2.4375, 2.625 , 2.8125,\n",
       "       3.    ])"
      ]
     },
     "execution_count": 35,
     "metadata": {},
     "output_type": "execute_result"
    }
   ],
   "source": [
    "b1 = np.linspace(1.5, 3, 9)\n",
    "b1\n"
   ]
  },
  {
   "cell_type": "markdown",
   "id": "e3cacae8-4697-4560-ba34-7fae51892b04",
   "metadata": {},
   "source": [
    "b: Create a 3x3 matrix, b2, which includes random numbers from Gaussian distribution with mean = 1, and sd = 0.75, seed = 1234."
   ]
  },
  {
   "cell_type": "code",
   "execution_count": 30,
   "id": "de5122ee-eff1-4ded-9807-275b25e0c439",
   "metadata": {},
   "outputs": [
    {
     "data": {
      "text/plain": [
       "array([[1.35357637, 0.10676823, 2.07453023],\n",
       "       [0.76551108, 0.45955845, 1.66537221],\n",
       "       [1.64469131, 0.52260737, 1.01177228]])"
      ]
     },
     "execution_count": 30,
     "metadata": {},
     "output_type": "execute_result"
    }
   ],
   "source": [
    "np.random.seed(1234)\n",
    "b2 = np.random.normal(1, 0.75, (3, 3))\n",
    "b2\n"
   ]
  },
  {
   "cell_type": "markdown",
   "id": "64a2143d-52c3-4045-b83e-75efe6b1db60",
   "metadata": {},
   "source": [
    "c: Calculate the determinant of b2."
   ]
  },
  {
   "cell_type": "code",
   "execution_count": 31,
   "id": "d790d98e-d89a-4893-a2dc-fd41f9311163",
   "metadata": {},
   "outputs": [
    {
     "data": {
      "text/plain": [
       "-1.0770051050177027"
      ]
     },
     "execution_count": 31,
     "metadata": {},
     "output_type": "execute_result"
    }
   ],
   "source": [
    "det_b2 = np.linalg.det(b2)\n",
    "det_b2"
   ]
  },
  {
   "cell_type": "markdown",
   "id": "05678b90-1c23-44eb-87ef-89314487b0dc",
   "metadata": {},
   "source": [
    "d: What is the transpose of matrix b2?"
   ]
  },
  {
   "cell_type": "code",
   "execution_count": 32,
   "id": "7983be56-c9d9-4fbb-986a-1c775565080e",
   "metadata": {},
   "outputs": [
    {
     "data": {
      "text/plain": [
       "array([[1.35357637, 0.76551108, 1.64469131],\n",
       "       [0.10676823, 0.45955845, 0.52260737],\n",
       "       [2.07453023, 1.66537221, 1.01177228]])"
      ]
     },
     "execution_count": 32,
     "metadata": {},
     "output_type": "execute_result"
    }
   ],
   "source": [
    "transpose_b2 = b2.T \n",
    "transpose_b2\n"
   ]
  },
  {
   "cell_type": "markdown",
   "id": "48ad02db-eee1-4455-89b5-f18144e4492a",
   "metadata": {},
   "source": [
    "e: Convert b1 into a 3x3 matrix."
   ]
  },
  {
   "cell_type": "code",
   "execution_count": 37,
   "id": "c5208a50-7255-40f5-917e-c6d6b51ad326",
   "metadata": {},
   "outputs": [
    {
     "data": {
      "text/plain": [
       "array([[1.5   , 1.6875, 1.875 ],\n",
       "       [2.0625, 2.25  , 2.4375],\n",
       "       [2.625 , 2.8125, 3.    ]])"
      ]
     },
     "execution_count": 37,
     "metadata": {},
     "output_type": "execute_result"
    }
   ],
   "source": [
    "b1_matrix = b1.reshape(3, 3)\n",
    "b1_matrix\n"
   ]
  },
  {
   "cell_type": "markdown",
   "id": "a95a7598-0a43-422f-a293-e5ed06c658d6",
   "metadata": {},
   "source": [
    "f: Calculate summation of b1 and b2."
   ]
  },
  {
   "cell_type": "code",
   "execution_count": 38,
   "id": "d3894447-c606-4d6c-9e10-39e33e4362cb",
   "metadata": {},
   "outputs": [
    {
     "data": {
      "text/plain": [
       "array([[2.85357637, 1.79426823, 3.94953023],\n",
       "       [2.82801108, 2.70955845, 4.10287221],\n",
       "       [4.26969131, 3.33510737, 4.01177228]])"
      ]
     },
     "execution_count": 38,
     "metadata": {},
     "output_type": "execute_result"
    }
   ],
   "source": [
    "sum_b1_b2 = b1_matrix + b2\n",
    "sum_b1_b2\n"
   ]
  },
  {
   "cell_type": "markdown",
   "id": "44a0b6fe-963a-4ad1-8260-c488b3b2247b",
   "metadata": {},
   "source": [
    "g: Calculate matrix multiplication of b1 and b2."
   ]
  },
  {
   "cell_type": "code",
   "execution_count": 39,
   "id": "14fb00bb-db90-43ca-b2eb-620918238879",
   "metadata": {},
   "outputs": [
    {
     "data": {
      "text/plain": [
       "array([[ 6.40596071,  1.91554605,  7.81918396],\n",
       "       [ 8.52308626,  2.52807145, 10.49200098],\n",
       "       [10.64021182,  3.14059686, 13.16481801]])"
      ]
     },
     "execution_count": 39,
     "metadata": {},
     "output_type": "execute_result"
    }
   ],
   "source": [
    "mult_b1_b2 = np.matmul(b1_matrix, b2)\n",
    "mult_b1_b2"
   ]
  },
  {
   "cell_type": "markdown",
   "id": "eed50ce2-3612-4f5d-b187-18a482da0541",
   "metadata": {},
   "source": [
    "h: Call all numbers of b2 which are greater than mean of b2."
   ]
  },
  {
   "cell_type": "code",
   "execution_count": 41,
   "id": "e210c9f2-6e80-4e21-9c9c-fadd0540ab78",
   "metadata": {},
   "outputs": [
    {
     "data": {
      "text/plain": [
       "array([1.35357637, 2.07453023, 1.66537221, 1.64469131])"
      ]
     },
     "execution_count": 41,
     "metadata": {},
     "output_type": "execute_result"
    }
   ],
   "source": [
    "mean_b2 = np.mean(b2)\n",
    "greater_than_mean = b2[b2 > mean_b2]\n",
    "greater_than_mean\n"
   ]
  },
  {
   "cell_type": "markdown",
   "id": "6442a0a7-384f-4c0f-9385-f4fb37da3bfd",
   "metadata": {},
   "source": [
    "i: Scale matrix b2 using min-max scaling method."
   ]
  },
  {
   "cell_type": "code",
   "execution_count": 42,
   "id": "1181585c-f9b4-4e07-a4c1-6d7138ba199b",
   "metadata": {},
   "outputs": [
    {
     "data": {
      "text/plain": [
       "array([[0.63361735, 0.        , 1.        ],\n",
       "       [0.33476754, 0.17928501, 0.79206936],\n",
       "       [0.7815595 , 0.21132593, 0.4599154 ]])"
      ]
     },
     "execution_count": 42,
     "metadata": {},
     "output_type": "execute_result"
    }
   ],
   "source": [
    "b2_min = np.min(b2)\n",
    "b2_max = np.max(b2)\n",
    "b2_scaled = (b2 - b2_min) / (b2_max - b2_min)\n",
    "b2_scaled"
   ]
  },
  {
   "cell_type": "code",
   "execution_count": null,
   "id": "130745b9-c72e-474d-988f-dddbbca2f393",
   "metadata": {},
   "outputs": [],
   "source": []
  }
 ],
 "metadata": {
  "kernelspec": {
   "display_name": "Python 3 (ipykernel)",
   "language": "python",
   "name": "python3"
  },
  "language_info": {
   "codemirror_mode": {
    "name": "ipython",
    "version": 3
   },
   "file_extension": ".py",
   "mimetype": "text/x-python",
   "name": "python",
   "nbconvert_exporter": "python",
   "pygments_lexer": "ipython3",
   "version": "3.10.6"
  }
 },
 "nbformat": 4,
 "nbformat_minor": 5
}
